{
 "cells": [
  {
   "cell_type": "markdown",
   "metadata": {},
   "source": [
    "# Simulating Icebergs\n",
    "This notebook runs and analyzes a series of simulations to evaluate the efficacy of Cuthbert's and BBC's methods for estimating population sizes given a series of samples."
   ]
  },
  {
   "cell_type": "code",
   "execution_count": 1,
   "metadata": {},
   "outputs": [],
   "source": [
    "# Libraries\n",
    "from random_simulation import random_simulation\n",
    "import pandas as pd\n",
    "import numpy as np\n",
    "from plotnine import *\n",
    "import sklearn as sk"
   ]
  },
  {
   "cell_type": "markdown",
   "metadata": {},
   "source": [
    "We are dealing with a hypothetical population of 10000 entities, from which a series of uniformly sized samples will be taken and estimates generated. Specifically, we are interested in the population size, the number of distinct entities observed in the samples, the *uncorrected* estimate with Cuthbert's method, and the BBC estimate. Correction via cross-validation is not necessary for Cuthbert's method since this is designed to test assumptions of randomness that the algorithm in fact implements."
   ]
  },
  {
   "cell_type": "code",
   "execution_count": 2,
   "metadata": {},
   "outputs": [
    {
     "name": "stdout",
     "output_type": "stream",
     "text": [
      "Population size: 10000\n",
      "Entities observed: 6364\n",
      "Cuthbert Estimate: 10093\n",
      "BBC Estimate: 8300\n"
     ]
    }
   ],
   "source": [
    "sim = random_simulation(10000, num_samples=100, sample_size=100, cuthbert_cv=False)\n",
    "print('Population size: {}\\nEntities observed: {}\\nCuthbert Estimate: {}\\nBBC Estimate: {:.0f}'.format(\n",
    "    sim['pop_size'], sim['n_sampled'], sim['cuthbert_est']['uncorrected'], sim['bbc_est']))"
   ]
  },
  {
   "cell_type": "markdown",
   "metadata": {},
   "source": [
    "You can probably already see where this is going. But let's give these methods a fair shot, and set up a loop that will run a large number of scenarios and record results that we can exmamine."
   ]
  },
  {
   "cell_type": "code",
   "execution_count": 3,
   "metadata": {},
   "outputs": [
    {
     "data": {
      "text/html": [
       "<div>\n",
       "<style scoped>\n",
       "    .dataframe tbody tr th:only-of-type {\n",
       "        vertical-align: middle;\n",
       "    }\n",
       "\n",
       "    .dataframe tbody tr th {\n",
       "        vertical-align: top;\n",
       "    }\n",
       "\n",
       "    .dataframe thead th {\n",
       "        text-align: right;\n",
       "    }\n",
       "</style>\n",
       "<table border=\"1\" class=\"dataframe\">\n",
       "  <thead>\n",
       "    <tr style=\"text-align: right;\">\n",
       "      <th></th>\n",
       "      <th>pop_size</th>\n",
       "      <th>num_samples</th>\n",
       "      <th>sample_sizes</th>\n",
       "      <th>n_sampled</th>\n",
       "      <th>est_type</th>\n",
       "      <th>pop_est</th>\n",
       "    </tr>\n",
       "  </thead>\n",
       "  <tbody>\n",
       "    <tr>\n",
       "      <th>0</th>\n",
       "      <td>10000</td>\n",
       "      <td>20</td>\n",
       "      <td>10</td>\n",
       "      <td>200</td>\n",
       "      <td>cuthbert</td>\n",
       "      <td>19999.000000</td>\n",
       "    </tr>\n",
       "    <tr>\n",
       "      <th>1</th>\n",
       "      <td>10000</td>\n",
       "      <td>20</td>\n",
       "      <td>10</td>\n",
       "      <td>200</td>\n",
       "      <td>bbc</td>\n",
       "      <td>280.200101</td>\n",
       "    </tr>\n",
       "    <tr>\n",
       "      <th>2</th>\n",
       "      <td>10000</td>\n",
       "      <td>20</td>\n",
       "      <td>10</td>\n",
       "      <td>199</td>\n",
       "      <td>cuthbert</td>\n",
       "      <td>18940.000000</td>\n",
       "    </tr>\n",
       "    <tr>\n",
       "      <th>3</th>\n",
       "      <td>10000</td>\n",
       "      <td>20</td>\n",
       "      <td>10</td>\n",
       "      <td>199</td>\n",
       "      <td>bbc</td>\n",
       "      <td>278.588486</td>\n",
       "    </tr>\n",
       "    <tr>\n",
       "      <th>4</th>\n",
       "      <td>10000</td>\n",
       "      <td>20</td>\n",
       "      <td>10</td>\n",
       "      <td>198</td>\n",
       "      <td>cuthbert</td>\n",
       "      <td>9440.000000</td>\n",
       "    </tr>\n",
       "  </tbody>\n",
       "</table>\n",
       "</div>"
      ],
      "text/plain": [
       "   pop_size  num_samples  sample_sizes  n_sampled  est_type       pop_est\n",
       "0     10000           20            10        200  cuthbert  19999.000000\n",
       "1     10000           20            10        200       bbc    280.200101\n",
       "2     10000           20            10        199  cuthbert  18940.000000\n",
       "3     10000           20            10        199       bbc    278.588486\n",
       "4     10000           20            10        198  cuthbert   9440.000000"
      ]
     },
     "execution_count": 3,
     "metadata": {},
     "output_type": "execute_result"
    }
   ],
   "source": [
    "# Set simulation parameters; 20 combinations simulated 20 times each gives us a nice corpus of\n",
    "# 400 simulations for each method.\n",
    "pop_sizes = [10000]\n",
    "sample_nums = [20, 50, 100, 150, 250]\n",
    "sample_sizes = [10, 25, 50, 100]\n",
    "SIMS_PER_CONDITION = 20\n",
    "\n",
    "# Initialize capta storage devices\n",
    "sims = {'pop_size': [], 'num_samples': [], 'sample_sizes': [], 'n_sampled': [], 'est_type': [], 'pop_est': []}\n",
    "\n",
    "# Set up loop, record results\n",
    "for p_size in pop_sizes:\n",
    "    for num in sample_nums:\n",
    "        for s_size in sample_sizes:\n",
    "            for i in range(SIMS_PER_CONDITION):\n",
    "                sim = random_simulation(p_size, num_samples = num, sample_size = s_size, cuthbert_cv=False)\n",
    "                ests = {'cuthbert': sim['cuthbert_est']['uncorrected'], 'bbc': sim['bbc_est']}\n",
    "                for label in ests.keys():\n",
    "                    sims['pop_size'].append(p_size)\n",
    "                    sims['num_samples'].append(num)\n",
    "                    sims['sample_sizes'].append(s_size)\n",
    "                    sims['n_sampled'].append(sim['n_sampled'])\n",
    "                    sims['est_type'].append(label)\n",
    "                    sims['pop_est'].append(ests[label])\n",
    "                '''\n",
    "                if i%5 == 4:\n",
    "                    print(\"Completed loop {} with {} samples of size {}\".format(i+1, num, s_size))\n",
    "                '''\n",
    "simulations = pd.DataFrame(sims)\n",
    "simulations.head()"
   ]
  },
  {
   "cell_type": "markdown",
   "metadata": {},
   "source": [
    "Let's compare their performance now, examining the means and variances of the population estimates within each group."
   ]
  },
  {
   "cell_type": "code",
   "execution_count": 4,
   "metadata": {},
   "outputs": [
    {
     "data": {
      "text/html": [
       "<div>\n",
       "<style scoped>\n",
       "    .dataframe tbody tr th:only-of-type {\n",
       "        vertical-align: middle;\n",
       "    }\n",
       "\n",
       "    .dataframe tbody tr th {\n",
       "        vertical-align: top;\n",
       "    }\n",
       "\n",
       "    .dataframe thead th {\n",
       "        text-align: right;\n",
       "    }\n",
       "</style>\n",
       "<table border=\"1\" class=\"dataframe\">\n",
       "  <thead>\n",
       "    <tr style=\"text-align: right;\">\n",
       "      <th></th>\n",
       "      <th></th>\n",
       "      <th></th>\n",
       "      <th>mean</th>\n",
       "      <th>var</th>\n",
       "    </tr>\n",
       "    <tr>\n",
       "      <th>est_type</th>\n",
       "      <th>sample_sizes</th>\n",
       "      <th>num_samples</th>\n",
       "      <th></th>\n",
       "      <th></th>\n",
       "    </tr>\n",
       "  </thead>\n",
       "  <tbody>\n",
       "    <tr>\n",
       "      <th rowspan=\"20\" valign=\"top\">bbc</th>\n",
       "      <th rowspan=\"5\" valign=\"top\">10</th>\n",
       "      <th>20</th>\n",
       "      <td>277.707038</td>\n",
       "      <td>4.767882e+00</td>\n",
       "    </tr>\n",
       "    <tr>\n",
       "      <th>50</th>\n",
       "      <td>679.895279</td>\n",
       "      <td>2.552601e+01</td>\n",
       "    </tr>\n",
       "    <tr>\n",
       "      <th>100</th>\n",
       "      <td>1322.922186</td>\n",
       "      <td>6.789751e+01</td>\n",
       "    </tr>\n",
       "    <tr>\n",
       "      <th>150</th>\n",
       "      <td>1933.908953</td>\n",
       "      <td>2.184865e+02</td>\n",
       "    </tr>\n",
       "    <tr>\n",
       "      <th>250</th>\n",
       "      <td>3036.672863</td>\n",
       "      <td>4.459178e+02</td>\n",
       "    </tr>\n",
       "    <tr>\n",
       "      <th rowspan=\"5\" valign=\"top\">25</th>\n",
       "      <th>20</th>\n",
       "      <td>683.187337</td>\n",
       "      <td>3.154634e+01</td>\n",
       "    </tr>\n",
       "    <tr>\n",
       "      <th>50</th>\n",
       "      <td>1634.702265</td>\n",
       "      <td>1.314463e+02</td>\n",
       "    </tr>\n",
       "    <tr>\n",
       "      <th>100</th>\n",
       "      <td>3043.600726</td>\n",
       "      <td>6.647951e+02</td>\n",
       "    </tr>\n",
       "    <tr>\n",
       "      <th>150</th>\n",
       "      <td>4266.357034</td>\n",
       "      <td>5.884423e+02</td>\n",
       "    </tr>\n",
       "    <tr>\n",
       "      <th>250</th>\n",
       "      <td>6216.348493</td>\n",
       "      <td>8.915358e+02</td>\n",
       "    </tr>\n",
       "    <tr>\n",
       "      <th rowspan=\"5\" valign=\"top\">50</th>\n",
       "      <th>20</th>\n",
       "      <td>1328.310669</td>\n",
       "      <td>1.186697e+02</td>\n",
       "    </tr>\n",
       "    <tr>\n",
       "      <th>50</th>\n",
       "      <td>3046.784083</td>\n",
       "      <td>2.882622e+02</td>\n",
       "    </tr>\n",
       "    <tr>\n",
       "      <th>100</th>\n",
       "      <td>5332.848729</td>\n",
       "      <td>1.230792e+03</td>\n",
       "    </tr>\n",
       "    <tr>\n",
       "      <th>150</th>\n",
       "      <td>7005.363354</td>\n",
       "      <td>1.667649e+03</td>\n",
       "    </tr>\n",
       "    <tr>\n",
       "      <th>250</th>\n",
       "      <td>9163.009321</td>\n",
       "      <td>2.389185e+03</td>\n",
       "    </tr>\n",
       "    <tr>\n",
       "      <th rowspan=\"5\" valign=\"top\">100</th>\n",
       "      <th>20</th>\n",
       "      <td>2511.676825</td>\n",
       "      <td>5.308175e+02</td>\n",
       "    </tr>\n",
       "    <tr>\n",
       "      <th>50</th>\n",
       "      <td>5330.281247</td>\n",
       "      <td>9.954737e+02</td>\n",
       "    </tr>\n",
       "    <tr>\n",
       "      <th>100</th>\n",
       "      <td>8255.839890</td>\n",
       "      <td>2.017113e+03</td>\n",
       "    </tr>\n",
       "    <tr>\n",
       "      <th>150</th>\n",
       "      <td>9819.879098</td>\n",
       "      <td>1.255356e+03</td>\n",
       "    </tr>\n",
       "    <tr>\n",
       "      <th>250</th>\n",
       "      <td>11027.716074</td>\n",
       "      <td>1.299438e+03</td>\n",
       "    </tr>\n",
       "    <tr>\n",
       "      <th rowspan=\"20\" valign=\"top\">cuthbert</th>\n",
       "      <th rowspan=\"5\" valign=\"top\">10</th>\n",
       "      <th>20</th>\n",
       "      <td>13773.900000</td>\n",
       "      <td>3.674426e+07</td>\n",
       "    </tr>\n",
       "    <tr>\n",
       "      <th>50</th>\n",
       "      <td>9915.550000</td>\n",
       "      <td>5.159771e+06</td>\n",
       "    </tr>\n",
       "    <tr>\n",
       "      <th>100</th>\n",
       "      <td>9967.400000</td>\n",
       "      <td>1.259836e+06</td>\n",
       "    </tr>\n",
       "    <tr>\n",
       "      <th>150</th>\n",
       "      <td>10282.800000</td>\n",
       "      <td>8.666994e+05</td>\n",
       "    </tr>\n",
       "    <tr>\n",
       "      <th>250</th>\n",
       "      <td>9870.800000</td>\n",
       "      <td>2.283364e+05</td>\n",
       "    </tr>\n",
       "    <tr>\n",
       "      <th rowspan=\"5\" valign=\"top\">25</th>\n",
       "      <th>20</th>\n",
       "      <td>12254.650000</td>\n",
       "      <td>2.527467e+07</td>\n",
       "    </tr>\n",
       "    <tr>\n",
       "      <th>50</th>\n",
       "      <td>10244.900000</td>\n",
       "      <td>1.062180e+06</td>\n",
       "    </tr>\n",
       "    <tr>\n",
       "      <th>100</th>\n",
       "      <td>9988.050000</td>\n",
       "      <td>3.708563e+05</td>\n",
       "    </tr>\n",
       "    <tr>\n",
       "      <th>150</th>\n",
       "      <td>10016.250000</td>\n",
       "      <td>8.088241e+04</td>\n",
       "    </tr>\n",
       "    <tr>\n",
       "      <th>250</th>\n",
       "      <td>9966.000000</td>\n",
       "      <td>2.163168e+04</td>\n",
       "    </tr>\n",
       "    <tr>\n",
       "      <th rowspan=\"5\" valign=\"top\">50</th>\n",
       "      <th>20</th>\n",
       "      <td>10466.950000</td>\n",
       "      <td>3.563189e+06</td>\n",
       "    </tr>\n",
       "    <tr>\n",
       "      <th>50</th>\n",
       "      <td>9954.650000</td>\n",
       "      <td>1.627511e+05</td>\n",
       "    </tr>\n",
       "    <tr>\n",
       "      <th>100</th>\n",
       "      <td>10072.400000</td>\n",
       "      <td>6.347499e+04</td>\n",
       "    </tr>\n",
       "    <tr>\n",
       "      <th>150</th>\n",
       "      <td>9985.200000</td>\n",
       "      <td>2.297922e+04</td>\n",
       "    </tr>\n",
       "    <tr>\n",
       "      <th>250</th>\n",
       "      <td>10006.100000</td>\n",
       "      <td>8.807463e+03</td>\n",
       "    </tr>\n",
       "    <tr>\n",
       "      <th rowspan=\"5\" valign=\"top\">100</th>\n",
       "      <th>20</th>\n",
       "      <td>9945.900000</td>\n",
       "      <td>6.788202e+05</td>\n",
       "    </tr>\n",
       "    <tr>\n",
       "      <th>50</th>\n",
       "      <td>9968.000000</td>\n",
       "      <td>5.002842e+04</td>\n",
       "    </tr>\n",
       "    <tr>\n",
       "      <th>100</th>\n",
       "      <td>9974.800000</td>\n",
       "      <td>1.242922e+04</td>\n",
       "    </tr>\n",
       "    <tr>\n",
       "      <th>150</th>\n",
       "      <td>9985.200000</td>\n",
       "      <td>2.893011e+03</td>\n",
       "    </tr>\n",
       "    <tr>\n",
       "      <th>250</th>\n",
       "      <td>9989.700000</td>\n",
       "      <td>1.109484e+03</td>\n",
       "    </tr>\n",
       "  </tbody>\n",
       "</table>\n",
       "</div>"
      ],
      "text/plain": [
       "                                           mean           var\n",
       "est_type sample_sizes num_samples                            \n",
       "bbc      10           20             277.707038  4.767882e+00\n",
       "                      50             679.895279  2.552601e+01\n",
       "                      100           1322.922186  6.789751e+01\n",
       "                      150           1933.908953  2.184865e+02\n",
       "                      250           3036.672863  4.459178e+02\n",
       "         25           20             683.187337  3.154634e+01\n",
       "                      50            1634.702265  1.314463e+02\n",
       "                      100           3043.600726  6.647951e+02\n",
       "                      150           4266.357034  5.884423e+02\n",
       "                      250           6216.348493  8.915358e+02\n",
       "         50           20            1328.310669  1.186697e+02\n",
       "                      50            3046.784083  2.882622e+02\n",
       "                      100           5332.848729  1.230792e+03\n",
       "                      150           7005.363354  1.667649e+03\n",
       "                      250           9163.009321  2.389185e+03\n",
       "         100          20            2511.676825  5.308175e+02\n",
       "                      50            5330.281247  9.954737e+02\n",
       "                      100           8255.839890  2.017113e+03\n",
       "                      150           9819.879098  1.255356e+03\n",
       "                      250          11027.716074  1.299438e+03\n",
       "cuthbert 10           20           13773.900000  3.674426e+07\n",
       "                      50            9915.550000  5.159771e+06\n",
       "                      100           9967.400000  1.259836e+06\n",
       "                      150          10282.800000  8.666994e+05\n",
       "                      250           9870.800000  2.283364e+05\n",
       "         25           20           12254.650000  2.527467e+07\n",
       "                      50           10244.900000  1.062180e+06\n",
       "                      100           9988.050000  3.708563e+05\n",
       "                      150          10016.250000  8.088241e+04\n",
       "                      250           9966.000000  2.163168e+04\n",
       "         50           20           10466.950000  3.563189e+06\n",
       "                      50            9954.650000  1.627511e+05\n",
       "                      100          10072.400000  6.347499e+04\n",
       "                      150           9985.200000  2.297922e+04\n",
       "                      250          10006.100000  8.807463e+03\n",
       "         100          20            9945.900000  6.788202e+05\n",
       "                      50            9968.000000  5.002842e+04\n",
       "                      100           9974.800000  1.242922e+04\n",
       "                      150           9985.200000  2.893011e+03\n",
       "                      250           9989.700000  1.109484e+03"
      ]
     },
     "execution_count": 4,
     "metadata": {},
     "output_type": "execute_result"
    }
   ],
   "source": [
    "sim_variance = simulations.groupby(['est_type', 'sample_sizes', 'num_samples']).pop_est.agg([np.mean, np.var])\n",
    "sim_variance"
   ]
  },
  {
   "cell_type": "markdown",
   "metadata": {},
   "source": [
    "And here it is. Not great performance from BBC's method. The estimates very troublingly seem to depend on both the number of samples taken and the sample size, and the variance of those estimates seems to increase concomitantly. On the other hand, Cuthbert's method seems to produce estimates that roughly center on the true population size (10000) for all numbers of all samples. Moreover, both the accuracy and variance of the estimates decreases with the number of samples and sample size. Since these inputs will necessarily be correlated with the total number of distinct entities observed within each simulation, we can simplify this insight by plotting those two quantities against one another."
   ]
  },
  {
   "cell_type": "code",
   "execution_count": 5,
   "metadata": {},
   "outputs": [
    {
     "name": "stderr",
     "output_type": "stream",
     "text": [
      "/Users/wwatson/Desktop/SideProjects/PyCharmVEnv/lib/python3.7/site-packages/plotnine/ggplot.py:729: PlotnineWarning: Saving 5 x 5 in image.\n",
      "  from_inches(height, units), units), PlotnineWarning)\n",
      "/Users/wwatson/Desktop/SideProjects/PyCharmVEnv/lib/python3.7/site-packages/plotnine/ggplot.py:730: PlotnineWarning: Filename: /Users/wwatson/Desktop/Modeling Icebergs/Cuth_BBC_Figure.png\n",
      "  warn('Filename: {}'.format(filename), PlotnineWarning)\n"
     ]
    },
    {
     "data": {
      "image/png": "[encoded data removed]",
      "text/plain": [
       "<Figure size 640x480 with 1 Axes>"
      ]
     },
     "metadata": {},
     "output_type": "display_data"
    },
    {
     "data": {
      "text/plain": [
       "<ggplot: (303550701)>"
      ]
     },
     "execution_count": 5,
     "metadata": {},
     "output_type": "execute_result"
    }
   ],
   "source": [
    "plot = ggplot(data = simulations)\n",
    "plot += geom_point(aes(x = 'n_sampled', y = 'pop_est', color = 'est_type'))\n",
    "plot += labs(x = \"Distinct Entities Observed\", y = \"Estimated Population Size\", color = \"Method of Estimation\")\n",
    "plot += ggtitle(\"Simulated Population of 10,000 Entities\") \n",
    "plot += theme_bw()\n",
    "#plot.save(filename='/Users/wwatson/Desktop/Modeling Icebergs/Cuth_BBC_Figure.png', width=5, height=5)\n",
    "plot"
   ]
  },
  {
   "cell_type": "markdown",
   "metadata": {},
   "source": [
    "Oof. Not only do BBC's estimates of population size grow with the number of entities observed, they do so pretty much linearly. If we had any doubts about the superiority of Cuthbert's method, this should quash them. But BBC's method deserves a little more scrutiny. Let's examine its linear growth a little more carefully."
   ]
  },
  {
   "cell_type": "code",
   "execution_count": 6,
   "metadata": {},
   "outputs": [
    {
     "name": "stdout",
     "output_type": "stream",
     "text": [
      "The regressed linear model is: pop_est = 1.2391*n_sampled + 237.4916\n",
      "The R^2 value is: 0.9966\n"
     ]
    }
   ],
   "source": [
    "bbc_simulations = simulations[simulations.est_type.eq('bbc')]\n",
    "bbc_X = bbc_simulations.n_sampled\n",
    "bbc_X = bbc_X.values.reshape(-1, 1)\n",
    "bbc_y = bbc_simulations.pop_est\n",
    "lm = sk.linear_model.LinearRegression()\n",
    "lm.fit(bbc_X, bbc_y)\n",
    "print(\"The regressed linear model is: pop_est = {:.4f}*n_sampled + {:.4f}\".format(lm.coef_[0], lm.intercept_))\n",
    "print(\"The R^2 value is: {:.4f}\".format(lm.score(bbc_X, bbc_y)))"
   ]
  },
  {
   "cell_type": "markdown",
   "metadata": {},
   "source": [
    "R^2 values that high don't come along too often. This also gives us a way to calculate when BBC's estimates would be likely to yield the true population size."
   ]
  },
  {
   "cell_type": "code",
   "execution_count": 7,
   "metadata": {},
   "outputs": [
    {
     "name": "stdout",
     "output_type": "stream",
     "text": [
      "BBC's method will return the true population size when 78.79% of the population is sampled.\n"
     ]
    }
   ],
   "source": [
    "breakeven = 100 * (pop_sizes[0] - lm.intercept_) / (lm.coef_[0] * pop_sizes[0])\n",
    "print(\"BBC's method will return the true population size when {:4.2f}% of the population is sampled.\".format(breakeven))"
   ]
  },
  {
   "cell_type": "markdown",
   "metadata": {},
   "source": [
    "Another way of saying this is that BBC's method will, on average, tend to indicate that about 78% of any population is represented within the samples we have. This is, to say the least, an undesirable outcome."
   ]
  },
  {
   "cell_type": "code",
   "execution_count": null,
   "metadata": {},
   "outputs": [],
   "source": []
  }
 ],
 "metadata": {
  "kernelspec": {
   "display_name": "Python 3",
   "language": "python",
   "name": "python3"
  },
  "language_info": {
   "codemirror_mode": {
    "name": "ipython",
    "version": 3
   },
   "file_extension": ".py",
   "mimetype": "text/x-python",
   "name": "python",
   "nbconvert_exporter": "python",
   "pygments_lexer": "ipython3",
   "version": "3.7.7"
  }
 },
 "nbformat": 4,
 "nbformat_minor": 4
}
